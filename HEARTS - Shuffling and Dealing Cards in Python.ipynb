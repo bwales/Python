{
 "cells": [
  {
   "cell_type": "markdown",
   "metadata": {},
   "source": [
    "# Card Games - Hearts"
   ]
  },
  {
   "cell_type": "markdown",
   "metadata": {},
   "source": [
    "<br>Hearts is a card game that typically involves 4 players and is basically the best card game ever... unless somebody hands you the Queen of Spades, in which case it is very much the <b>WORST</b> card game ever and you may find yourself in a pit of despair from which there is no return. \n",
    "<br><br> Anyway...\n",
    "<br><br>\n",
    "The rules of Hearts can be found [here](https://en.wikipedia.org/wiki/Hearts_(card_game))\n",
    "<br><br>\n",
    "I want to try and create a game of Hearts in Python, starting by dealing out cards to each player"
   ]
  },
  {
   "cell_type": "markdown",
   "metadata": {},
   "source": [
    "#### Step 1 - Import required packages\n",
    "<br>\n",
    "<br>\n",
    "I'm importing <b>shuffle</b> from the <b>random</b> package, which will allow me to add an element of randomness to the dealing of the cards."
   ]
  },
  {
   "cell_type": "code",
   "execution_count": 66,
   "metadata": {},
   "outputs": [],
   "source": [
    "from random import shuffle"
   ]
  },
  {
   "cell_type": "markdown",
   "metadata": {},
   "source": [
    "#### Step 2 - Create the deck of cards\n",
    "\n",
    "I'm creating separate lists for each suit for the time being"
   ]
  },
  {
   "cell_type": "code",
   "execution_count": 71,
   "metadata": {},
   "outputs": [],
   "source": [
    "Hearts = [\"H2\",\"H3\",\"H4\",\"H5\",\"H6\",\"H7\",\"H8\",\"H9\",\"H10\",\"HJ\",\"HQ\",\"HK\",\"HA\"]\n",
    "Spades = [\"S2\",\"S3\",\"S4\",\"S5\",\"S6\",\"S7\",\"S8\",\"S9\",\"S10\",\"SJ\",\"SQ\",\"SK\",\"SA\"] \n",
    "Diamonds = [\"D2\",\"D3\",\"D4\",\"D5\",\"D6\",\"D7\",\"D8\",\"D9\",\"D10\",\"DJ\",\"DQ\",\"DK\",\"DA\"]\n",
    "Clubs = [\"C2\",\"C3\",\"C4\",\"C5\",\"C6\",\"C7\",\"C8\",\"C9\",\"C10\",\"CJ\",\"CQ\",\"CK\",\"CA\"]"
   ]
  },
  {
   "cell_type": "markdown",
   "metadata": {},
   "source": [
    "The next step is to create the deck of cards. I'm going to do this by combining the above 4 lists into one new list called <b> Deck</b>. (Technically I could have just created one list from the get go, but this is just an example of how you can combine lists)."
   ]
  },
  {
   "cell_type": "code",
   "execution_count": 72,
   "metadata": {},
   "outputs": [
    {
     "name": "stdout",
     "output_type": "stream",
     "text": [
      "['H2', 'H3', 'H4', 'H5', 'H6', 'H7', 'H8', 'H9', 'H10', 'HJ', 'HQ', 'HK', 'HA', 'S2', 'S3', 'S4', 'S5', 'S6', 'S7', 'S8', 'S9', 'S10', 'SJ', 'SQ', 'SK', 'SA', 'D2', 'D3', 'D4', 'D5', 'D6', 'D7', 'D8', 'D9', 'D10', 'DJ', 'DQ', 'DK', 'DA', 'C2', 'C3', 'C4', 'C5', 'C6', 'C7', 'C8', 'C9', 'C10', 'CJ', 'CQ', 'CK', 'CA']\n"
     ]
    }
   ],
   "source": [
    "Deck = Hearts+Spades+Diamonds+Clubs\n",
    "print(Deck)"
   ]
  },
  {
   "cell_type": "markdown",
   "metadata": {},
   "source": [
    "#### Step 3 - Deal the Cards\n",
    "<br>\n",
    "<br>\n",
    "Finally I want to be able to deal the cards to each player. The cards need to be dealt randomly, and each card can only be dealt once - only one person can have the Queen of Spades for example (not that anybody wants the Queen of Spades - see above re: pit of despair). \n",
    "<br><br>I thought about using a complicated For loop here, but I came across a much simpler (and therefore better!) way. By using the shuffle function from the random package, I can randomly reorder the Deck, splice the Deck into 4 equal segments of 13 elements, then allocate one of those splices to each player. Doing it this way ensures that each player has 13 cards allocated to them, and there is no danger of duplicating cards. \n",
    "<br><br>\n",
    "(Note, this is the simple way!)<br><br>\n",
    "In order to speed up the dealing process going forward, I'm going to create a function to deal the cards, called <b> Deal</b>. <br><br>(I know what you're thinking: Just how <b><u> does</u></b> he come up with these imaginative naming conventions???).\n",
    "<br>\n",
    "<br>\n",
    "The <b>Deal</b> function is broken down in 4 main elements:<br><br>\n",
    "    <li> The shuffle function is used to randomise the deck of cards</li>\n",
    "    <li>A variable is created for each player, with a different splice of the deck assigned to each variable (e.g. Player 1 gets the first 13 cards in the deck, Player 2 gets the next 13, and so on)</li>\n",
    "    <li>a sort function is applied to each player's hand, so the cards are grouped by suit (nearly in ascending order - H10 will come before H2 for example and I can't figure out how to change that at this stage)</li>\n",
    "    <li>Finally the hand for each player is printed out to the console to confirm I've actually written the function correctly!</li>"
   ]
  },
  {
   "cell_type": "code",
   "execution_count": 60,
   "metadata": {},
   "outputs": [],
   "source": [
    "def Deal():\n",
    "    shuffle(Deck)\n",
    "    P_1= Deck[0:13]\n",
    "    P_1.sort()\n",
    "    P_2= Deck[13:26]\n",
    "    P_2.sort()\n",
    "    P_3= Deck[26:39]\n",
    "    P_3.sort()\n",
    "    P_4= Deck[39:52]\n",
    "    P_4.sort()\n",
    "    print(str('Player 1 cards: ') + str(P_1))\n",
    "    print(str('Player 2 cards: ') + str(P_2))\n",
    "    print(str('Player 3 cards: ') + str(P_3))\n",
    "    print(str('Player 4 cards: ') + str(P_4))"
   ]
  },
  {
   "cell_type": "markdown",
   "metadata": {},
   "source": [
    "With the new function created, it's time to deal the cards!"
   ]
  },
  {
   "cell_type": "code",
   "execution_count": 80,
   "metadata": {},
   "outputs": [
    {
     "name": "stdout",
     "output_type": "stream",
     "text": [
      "Player 1 cards: ['C5', 'CJ', 'D2', 'DA', 'H3', 'HJ', 'HQ', 'S10', 'S2', 'S4', 'SA', 'SJ', 'SK']\n",
      "Player 2 cards: ['C10', 'C2', 'CQ', 'D10', 'D5', 'D6', 'DJ', 'DK', 'H5', 'H6', 'HA', 'S5', 'S7']\n",
      "Player 3 cards: ['CA', 'D8', 'DQ', 'H10', 'H2', 'H4', 'H8', 'HK', 'S3', 'S6', 'S8', 'S9', 'SQ']\n",
      "Player 4 cards: ['C3', 'C4', 'C6', 'C7', 'C8', 'C9', 'CK', 'D3', 'D4', 'D7', 'D9', 'H7', 'H9']\n"
     ]
    }
   ],
   "source": [
    "Deal()"
   ]
  },
  {
   "cell_type": "markdown",
   "metadata": {},
   "source": [
    "And there you have it, all 52 cards shuffled and evenly dealt to 4 players. Let's play Hearts!!"
   ]
  }
 ],
 "metadata": {
  "kernelspec": {
   "display_name": "Python 3",
   "language": "python",
   "name": "python3"
  },
  "language_info": {
   "codemirror_mode": {
    "name": "ipython",
    "version": 3
   },
   "file_extension": ".py",
   "mimetype": "text/x-python",
   "name": "python",
   "nbconvert_exporter": "python",
   "pygments_lexer": "ipython3",
   "version": "3.7.4"
  }
 },
 "nbformat": 4,
 "nbformat_minor": 2
}
